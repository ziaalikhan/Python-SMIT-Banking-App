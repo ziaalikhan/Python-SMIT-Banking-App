{
 "cells": [
  {
   "cell_type": "raw",
   "id": "d5512fe7-d40e-40ae-96e0-1cc154dad137",
   "metadata": {},
   "source": [
    "Looping Structures"
   ]
  },
  {
   "cell_type": "code",
   "execution_count": 3,
   "id": "4442dc30-371d-4fbb-8c4a-ce805385b92e",
   "metadata": {},
   "outputs": [
    {
     "name": "stdout",
     "output_type": "stream",
     "text": [
      "1\n",
      "2\n",
      "3\n",
      "4\n",
      "5\n",
      "6\n",
      "7\n",
      "8\n",
      "9\n",
      "10\n"
     ]
    }
   ],
   "source": [
    "# 1. Write a Python program to print the numbers from 1 to 10 using a for loop.\n",
    "for i in range(1,11) :\n",
    "    print(i)\n"
   ]
  },
  {
   "cell_type": "code",
   "execution_count": 2,
   "id": "8ad88fd3-9f91-4cfd-ae27-6905fce5b7a3",
   "metadata": {},
   "outputs": [
    {
     "name": "stdout",
     "output_type": "stream",
     "text": [
      "20\n",
      "19\n",
      "18\n",
      "17\n",
      "16\n",
      "15\n",
      "14\n",
      "13\n",
      "12\n",
      "11\n",
      "10\n",
      "9\n",
      "8\n",
      "7\n",
      "6\n",
      "5\n",
      "4\n",
      "3\n",
      "2\n",
      "1\n"
     ]
    }
   ],
   "source": [
    "# 2. Write a Python program to print the numbers from 20 to 1 using a while loop.\n",
    "i = 20\n",
    "while i > 0:\n",
    "  print(i)\n",
    "  i -= 1"
   ]
  },
  {
   "cell_type": "code",
   "execution_count": 11,
   "id": "cbd83a14-2248-4ef2-91e7-7a26724bb4c0",
   "metadata": {},
   "outputs": [
    {
     "name": "stdout",
     "output_type": "stream",
     "text": [
      "2\n",
      "4\n",
      "6\n",
      "8\n",
      "10\n"
     ]
    }
   ],
   "source": [
    "# 3. Write a program to print even numbers from 1 to 10.\n",
    "for i in range(1,11) :\n",
    "    if not i % 2 :\n",
    "        print(i)"
   ]
  },
  {
   "cell_type": "code",
   "execution_count": 12,
   "id": "33c949b4-a308-4b30-a698-e5c748c503a8",
   "metadata": {},
   "outputs": [
    {
     "name": "stdout",
     "output_type": "stream",
     "text": [
      "1\n",
      "2\n",
      "3\n",
      "4\n",
      "5\n",
      "6\n",
      "7\n",
      "8\n",
      "9\n",
      "10\n",
      "11\n",
      "12\n",
      "13\n",
      "14\n",
      "15\n",
      "16\n",
      "17\n",
      "18\n",
      "19\n",
      "20\n",
      "21\n",
      "22\n",
      "23\n",
      "24\n",
      "25\n",
      "26\n",
      "27\n",
      "28\n",
      "29\n",
      "30\n",
      "31\n",
      "32\n",
      "33\n",
      "34\n",
      "35\n",
      "36\n",
      "37\n",
      "38\n",
      "39\n",
      "40\n",
      "41\n",
      "42\n",
      "43\n",
      "44\n",
      "45\n",
      "46\n",
      "47\n",
      "48\n",
      "49\n",
      "50\n",
      "51\n",
      "52\n",
      "53\n",
      "54\n",
      "55\n",
      "56\n",
      "57\n",
      "58\n",
      "59\n",
      "60\n",
      "61\n",
      "62\n",
      "63\n",
      "64\n",
      "65\n",
      "66\n",
      "67\n",
      "68\n",
      "69\n",
      "70\n",
      "71\n",
      "72\n",
      "73\n",
      "74\n",
      "75\n",
      "76\n",
      "77\n",
      "78\n",
      "79\n",
      "80\n",
      "81\n",
      "82\n",
      "83\n",
      "84\n",
      "85\n",
      "86\n",
      "87\n",
      "88\n",
      "89\n",
      "90\n",
      "91\n",
      "92\n",
      "93\n",
      "94\n",
      "95\n",
      "96\n",
      "97\n",
      "98\n",
      "99\n"
     ]
    }
   ],
   "source": [
    "# 4. Write a program that prompts the user to enter a number n and prints all the\n",
    "# numbers from 1 to n.\n",
    "n = int(input(\"Enter Your Number : \"))\n",
    "for i in range(1,n) :\n",
    "    print(i)\n"
   ]
  },
  {
   "cell_type": "code",
   "execution_count": 14,
   "id": "29275825-289e-4bb3-b4d5-5a50a5f1ea04",
   "metadata": {},
   "outputs": [
    {
     "name": "stdout",
     "output_type": "stream",
     "text": [
      "1\n",
      "3\n",
      "5\n",
      "7\n",
      "9\n",
      "11\n",
      "13\n",
      "15\n",
      "17\n",
      "19\n",
      "21\n",
      "23\n",
      "25\n",
      "27\n",
      "29\n",
      "31\n",
      "33\n",
      "35\n",
      "37\n",
      "39\n",
      "41\n",
      "43\n",
      "45\n",
      "47\n",
      "49\n",
      "51\n",
      "53\n",
      "55\n",
      "57\n",
      "59\n",
      "61\n",
      "63\n",
      "65\n",
      "67\n",
      "69\n",
      "71\n",
      "73\n",
      "75\n",
      "77\n",
      "79\n",
      "81\n",
      "83\n",
      "85\n",
      "87\n",
      "89\n",
      "91\n",
      "93\n",
      "95\n",
      "97\n",
      "99\n"
     ]
    }
   ],
   "source": [
    "# 5. Write a program that prompts the user to enter a number n, and then prints all the\n",
    "# odd numbers between 1 and n.\n",
    "n = int(input(\"Enter Your Number : \"))\n",
    "for i in range(1,n) :\n",
    "    if i % 2 :\n",
    "        print(i)"
   ]
  },
  {
   "cell_type": "code",
   "execution_count": 15,
   "id": "061253bc-b2be-4367-aba1-bfad8ed30d3a",
   "metadata": {},
   "outputs": [
    {
     "name": "stdout",
     "output_type": "stream",
     "text": [
      "Happy Birthday!\n",
      "Happy Birthday!\n",
      "Happy Birthday!\n",
      "Happy Birthday!\n",
      "Happy Birthday!\n"
     ]
    }
   ],
   "source": [
    "# 6. Write a program that prints 'Happy Birthday!' five times on screen.\n",
    "message = 'Happy Birthday!'\n",
    "for i in range(0,5):\n",
    "    print(message)"
   ]
  },
  {
   "cell_type": "code",
   "execution_count": null,
   "id": "9ee528ef-60c4-4496-b710-702d7cdc065f",
   "metadata": {},
   "outputs": [],
   "source": [
    "# 7. Write a program that takes a number n as input from the user and generates the first\n",
    "# n terms of the series formed by squaring the natural numbers.\n"
   ]
  },
  {
   "cell_type": "code",
   "execution_count": 19,
   "id": "b9949262-cf64-49a4-aca7-81bf3680e754",
   "metadata": {},
   "outputs": [
    {
     "name": "stdin",
     "output_type": "stream",
     "text": [
      "Enter Your Number :  100\n"
     ]
    },
    {
     "name": "stdout",
     "output_type": "stream",
     "text": [
      "1\n",
      "4\n",
      "9\n",
      "16\n",
      "25\n",
      "36\n",
      "49\n",
      "64\n",
      "81\n",
      "100\n",
      "121\n",
      "144\n",
      "169\n",
      "196\n",
      "225\n",
      "256\n",
      "289\n",
      "324\n",
      "361\n",
      "400\n",
      "441\n",
      "484\n",
      "529\n",
      "576\n",
      "625\n",
      "676\n",
      "729\n",
      "784\n",
      "841\n",
      "900\n",
      "961\n",
      "1024\n",
      "1089\n",
      "1156\n",
      "1225\n",
      "1296\n",
      "1369\n",
      "1444\n",
      "1521\n",
      "1600\n",
      "1681\n",
      "1764\n",
      "1849\n",
      "1936\n",
      "2025\n",
      "2116\n",
      "2209\n",
      "2304\n",
      "2401\n",
      "2500\n",
      "2601\n",
      "2704\n",
      "2809\n",
      "2916\n",
      "3025\n",
      "3136\n",
      "3249\n",
      "3364\n",
      "3481\n",
      "3600\n",
      "3721\n",
      "3844\n",
      "3969\n",
      "4096\n",
      "4225\n",
      "4356\n",
      "4489\n",
      "4624\n",
      "4761\n",
      "4900\n",
      "5041\n",
      "5184\n",
      "5329\n",
      "5476\n",
      "5625\n",
      "5776\n",
      "5929\n",
      "6084\n",
      "6241\n",
      "6400\n",
      "6561\n",
      "6724\n",
      "6889\n",
      "7056\n",
      "7225\n",
      "7396\n",
      "7569\n",
      "7744\n",
      "7921\n",
      "8100\n",
      "8281\n",
      "8464\n",
      "8649\n",
      "8836\n",
      "9025\n",
      "9216\n",
      "9409\n",
      "9604\n",
      "9801\n"
     ]
    }
   ],
   "source": [
    "# 8. Write a program that prompts the user to input a number and prints its multiplication\n",
    "# table.\n",
    "\n",
    "n = int(input(\"Enter Your Number : \"))\n",
    "for i in range(1,n):\n",
    "    print(i * i)"
   ]
  },
  {
   "cell_type": "code",
   "execution_count": 24,
   "id": "0eb5f720-8713-413c-9c7a-892e7861e830",
   "metadata": {},
   "outputs": [
    {
     "name": "stdout",
     "output_type": "stream",
     "text": [
      "3\n",
      "7\n",
      "11\n",
      "15\n",
      "19\n",
      "23\n",
      "27\n",
      "31\n"
     ]
    }
   ],
   "source": [
    "# 9. Write a Python program to print the first 8 terms of an arithmetic progression starting\n",
    "# with 3 and having a common difference of 4.\n",
    "# The program should output the following sequence:\n",
    "# 3 7 11 15 19 23 27 31\n",
    "first_term = 3\n",
    "common_differnce = 4\n",
    "for i in range(8):\n",
    "    term = first_term + i * common_differnce\n",
    "    print(term)"
   ]
  },
  {
   "cell_type": "code",
   "execution_count": 37,
   "id": "cea05f7a-0b38-4072-a2bc-27129cb23ba5",
   "metadata": {},
   "outputs": [
    {
     "name": "stdout",
     "output_type": "stream",
     "text": [
      "2\n",
      "6\n",
      "18\n",
      "54\n",
      "162\n",
      "486\n",
      "1458\n"
     ]
    }
   ],
   "source": [
    "# 10. Write a Python program to print the first 6 terms of a geometric sequence starting\n",
    "# with 2 and having a common ratio of 3.\n",
    "# The program should output the following sequence:\n",
    "# 2 6 18 54 162 486\n",
    "\n",
    "result = 2\n",
    "\n",
    "for x in range(6):\n",
    "    print(result)\n",
    "    result *= 3\n",
    "\n",
    "print(result)"
   ]
  },
  {
   "cell_type": "code",
   "execution_count": 40,
   "id": "bca4de22-a8b5-4bb1-a194-c6e50a49a718",
   "metadata": {},
   "outputs": [
    {
     "name": "stdout",
     "output_type": "stream",
     "text": [
      "190\n"
     ]
    }
   ],
   "source": [
    "# 11. Write a program that asks the user for a positive integer value. The program should\n",
    "# calculate the sum of all the integers from 1 up to the number entered. For example, if\n",
    "# the user enters 20, the loop will find the sum of 1, 2, 3, 4, ... 20.\n",
    "\n",
    "num = int(input(\"Enter Your Number : \"))\n",
    "sum_val = 0\n",
    "for x in range(20):\n",
    "    sum_val += x\n",
    "    \n",
    "print(sum_val)\n"
   ]
  },
  {
   "cell_type": "code",
   "execution_count": null,
   "id": "4729ef49-881c-4912-8214-7b1d485327da",
   "metadata": {},
   "outputs": [],
   "source": [
    "# 12. write a program that takes a positive integer N as input and calculates the sum of\n",
    "# the reciprocals of all numbers from 1 up to N. The program should display the final sum.\n",
    "# Output of the program should be like:\n",
    "# Enter a positive integer: 5\n",
    "# The sum of reciprocals from 1 to 5 is: 2.28\n",
    "\n"
   ]
  },
  {
   "cell_type": "code",
   "execution_count": 45,
   "id": "f0ef5add-d7ef-4b9a-82c3-3da22b587529",
   "metadata": {},
   "outputs": [
    {
     "name": "stdin",
     "output_type": "stream",
     "text": [
      "Enter Number :  10\n",
      "Enter Number :  15\n",
      "Enter Number :  35\n",
      "Enter Number :  40\n",
      "Enter Number :  50\n"
     ]
    },
    {
     "name": "stdout",
     "output_type": "stream",
     "text": [
      "150\n"
     ]
    }
   ],
   "source": [
    "# 13. Write a program that prompts the user to enter a number and repeats this process 5\n",
    "# times. The program should accumulate the numbers entered and then display the final\n",
    "# running total.\n",
    "# Sample Output:\n",
    "# Enter a number: 10\n",
    "# Enter a number: 15\n",
    "# Enter a number: 35\n",
    "# Enter a number: 40\n",
    "# Enter a number: 50\n",
    "# The final running total is: 150\n",
    "sum_val = 0\n",
    "for x in range(5):\n",
    "    num = int(input(\"Enter Number : \"))\n",
    "    sum_val += num\n",
    "    \n",
    "print(f\"Total Sum is {sum_val}\")\n"
   ]
  },
  {
   "cell_type": "code",
   "execution_count": 53,
   "id": "e02444e9-855e-4996-9d4f-804ee1d414ea",
   "metadata": {},
   "outputs": [
    {
     "name": "stdin",
     "output_type": "stream",
     "text": [
      "Enter Your Number :  8\n"
     ]
    },
    {
     "name": "stdout",
     "output_type": "stream",
     "text": [
      "Your Factorail is 40320\n"
     ]
    }
   ],
   "source": [
    "# 14. Write a program that prompts the user to enter a positive integer and calculates its\n",
    "# factorial. The factorial of a positive integer 'n' is denoted as 'n!' and is calculated by\n",
    "# multiplying all the integers from 1 to 'n' together. For example, the factorial of 5\n",
    "# (denoted as 5!) is calculated as 1 x 2 x 3 x 4 x 5.\n",
    "# The program should display the factorial value if the input is a positive number, or\n",
    "# display a message stating that the factorial does not exist for negative numbers.\n",
    "# Additionally, for an input of zero, the program should output that the factorial of 0 is 1.\n",
    "\n",
    "factorial = int(input(\"Enter Your Number : \"))\n",
    "for x in range(1,factorial):\n",
    "    factorial *= x\n",
    "\n",
    "print(f\"Your Factorail is {factorial}\")\n"
   ]
  },
  {
   "cell_type": "code",
   "execution_count": 62,
   "id": "32d41a3b-3b76-4c04-a157-cb2a2fc209ee",
   "metadata": {},
   "outputs": [
    {
     "name": "stdout",
     "output_type": "stream",
     "text": [
      "0\n"
     ]
    }
   ],
   "source": [
    "# 15. Write a Python program that prompts the user to enter a base number and an\n",
    "# exponent, and then calculates the power of the base to the exponent. The program\n",
    "# should not use the exponentiation operator (**) or the math.pow() function. The\n",
    "# program should handle both positive and negative exponents.\n",
    "\n",
    "base = 2\n",
    "exponent = 3\n",
    "# print(base ** exponent)\n",
    "result = 0\n",
    "\n",
    "for x in range(3):\n",
    "    result = 2 ** 3\n",
    "    \n",
    "print(result)\n"
   ]
  },
  {
   "cell_type": "code",
   "execution_count": 55,
   "id": "93961a03-fd24-4572-a86f-0d3750f8e845",
   "metadata": {},
   "outputs": [
    {
     "name": "stdout",
     "output_type": "stream",
     "text": [
      "8\n"
     ]
    }
   ],
   "source": [
    "print(2*2)"
   ]
  },
  {
   "cell_type": "code",
   "execution_count": null,
   "id": "90b5fa0e-78b4-4ac4-aece-08c846d10cc8",
   "metadata": {},
   "outputs": [],
   "source": []
  }
 ],
 "metadata": {
  "kernelspec": {
   "display_name": "Python 3 (ipykernel)",
   "language": "python",
   "name": "python3"
  },
  "language_info": {
   "codemirror_mode": {
    "name": "ipython",
    "version": 3
   },
   "file_extension": ".py",
   "mimetype": "text/x-python",
   "name": "python",
   "nbconvert_exporter": "python",
   "pygments_lexer": "ipython3",
   "version": "3.12.7"
  }
 },
 "nbformat": 4,
 "nbformat_minor": 5
}
