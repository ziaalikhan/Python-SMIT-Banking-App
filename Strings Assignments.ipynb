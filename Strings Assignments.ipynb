{
 "cells": [
  {
   "cell_type": "markdown",
   "id": "b5ff6568-f97c-476a-aadf-df9f1b316c68",
   "metadata": {},
   "source": [
    "1. Write a program that accepts a string from user. Your program should count and display number of\n",
    "vowels in that string."
   ]
  },
  {
   "cell_type": "code",
   "execution_count": 43,
   "id": "0592708d-e78e-459f-9d35-b8930858a1eb",
   "metadata": {},
   "outputs": [
    {
     "name": "stdin",
     "output_type": "stream",
     "text": [
      "Enter Word :  ziaa\n"
     ]
    },
    {
     "name": "stdout",
     "output_type": "stream",
     "text": [
      "Total count of Vowels in ziaa is: 3\n"
     ]
    }
   ],
   "source": [
    "word = input(\"Enter Word : \")\n",
    "vowles = [\"a\", \"e\", \"i\", \"o\", \"u\"]\n",
    "\n",
    "total_vowels = 0\n",
    "\n",
    "for v in word :\n",
    "    if v in vowles:\n",
    "        total_vowels += v.count(v)\n",
    "print(f\"Total count of Vowels in {word} is: {total_vowels}\")"
   ]
  },
  {
   "cell_type": "markdown",
   "id": "a3d26704-bfff-4988-b55c-da1ffabde8e7",
   "metadata": {},
   "source": [
    "2. Write a program that reads a string from keyboard and display:\n",
    "* The number of uppercase letters in the string\n",
    "* The number of lowercase letters in the string\n",
    "* The number of digits in the string\n",
    "* The number of whitespace characters in the string"
   ]
  },
  {
   "cell_type": "code",
   "execution_count": null,
   "id": "8d60c3c6-af8e-4750-9b31-e252e9b58f8f",
   "metadata": {},
   "outputs": [],
   "source": [
    "str = \"AbCd12\"\n",
    "if "
   ]
  },
  {
   "cell_type": "markdown",
   "id": "3cf9c7cd-8a7f-4510-acd9-d5bb73f6acbf",
   "metadata": {},
   "source": [
    "3. Write a Python program that accepts a string from user. Your program should create and display a\n",
    "new string where the first and last characters have been exchanged."
   ]
  },
  {
   "cell_type": "code",
   "execution_count": 85,
   "id": "72cf74f5-3d25-40ac-a708-330b6677a5ff",
   "metadata": {},
   "outputs": [
    {
     "name": "stdin",
     "output_type": "stream",
     "text": [
      "Enter Word :  Hello\n"
     ]
    },
    {
     "name": "stdout",
     "output_type": "stream",
     "text": [
      "oellH\n"
     ]
    }
   ],
   "source": [
    "text = input(\"Enter Word : \")\n",
    "new_text = list(text)\n",
    "new_text[0] = text[len(text) -1]\n",
    "new_text[len(new_text) -1] = text[0]\n",
    "result = ''.join(new_text)\n",
    "print(result)\n"
   ]
  },
  {
   "cell_type": "markdown",
   "id": "7c183059-656a-484d-a981-026b7d570a15",
   "metadata": {},
   "source": [
    "4. Write a Python program that accepts a string from user. Your program should create a new string in\n",
    "reverse of first string and display it.\n",
    "For example if the user enters the string 'EXAM' then new string would be 'MAXE'"
   ]
  },
  {
   "cell_type": "code",
   "execution_count": 105,
   "id": "6d7137dc-caf5-4ccf-bcf7-0c4a2aa286eb",
   "metadata": {},
   "outputs": [
    {
     "name": "stdin",
     "output_type": "stream",
     "text": [
      "Enter Word :  Exam\n"
     ]
    },
    {
     "name": "stdout",
     "output_type": "stream",
     "text": [
      "maxE\n"
     ]
    }
   ],
   "source": [
    "text = input(\"Enter Word : \")\n",
    "new_text = list(text)\n",
    "new_text.reverse()\n",
    "print(''.join(new_text))"
   ]
  },
  {
   "cell_type": "markdown",
   "id": "6f0bd29e-9613-4ecf-a7dc-aaf5a1a78650",
   "metadata": {},
   "source": [
    "5. Write a Python program that accepts a string from user. Your program should create a new string by\n",
    "shifting one position to left.\n",
    "For example if the user enters the string 'examination 2021' then new string would be 'xamination\n",
    "2021e'"
   ]
  },
  {
   "cell_type": "code",
   "execution_count": null,
   "id": "24c0970f-61f8-4304-a24f-a23dd3e4cfb8",
   "metadata": {},
   "outputs": [],
   "source": []
  }
 ],
 "metadata": {
  "kernelspec": {
   "display_name": "Python 3 (ipykernel)",
   "language": "python",
   "name": "python3"
  },
  "language_info": {
   "codemirror_mode": {
    "name": "ipython",
    "version": 3
   },
   "file_extension": ".py",
   "mimetype": "text/x-python",
   "name": "python",
   "nbconvert_exporter": "python",
   "pygments_lexer": "ipython3",
   "version": "3.12.7"
  }
 },
 "nbformat": 4,
 "nbformat_minor": 5
}
