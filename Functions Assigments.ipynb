{
 "cells": [
  {
   "cell_type": "code",
   "execution_count": 5,
   "id": "71cb2fd3-5b42-4f86-974f-44c1413c9f4f",
   "metadata": {},
   "outputs": [
    {
     "name": "stdout",
     "output_type": "stream",
     "text": [
      "1\n"
     ]
    }
   ],
   "source": [
    "# 1. Write a Python function to find the maximum of three numbers.\n",
    "\n",
    "def maxNumbers(arr):\n",
    "    maxItem = arr[0]\n",
    "    for x in arr:\n",
    "        if maxItem > x:\n",
    "            maxItem = x\n",
    "            # print(x)\n",
    "    print(maxItem)\n",
    "\n",
    "maxNumbers([3,8,4,2,1,2,3,9])"
   ]
  },
  {
   "cell_type": "code",
   "execution_count": null,
   "id": "671f6130-186b-4fbd-8a16-9df36d9f1333",
   "metadata": {},
   "outputs": [],
   "source": []
  }
 ],
 "metadata": {
  "kernelspec": {
   "display_name": "Python 3 (ipykernel)",
   "language": "python",
   "name": "python3"
  },
  "language_info": {
   "codemirror_mode": {
    "name": "ipython",
    "version": 3
   },
   "file_extension": ".py",
   "mimetype": "text/x-python",
   "name": "python",
   "nbconvert_exporter": "python",
   "pygments_lexer": "ipython3",
   "version": "3.12.7"
  }
 },
 "nbformat": 4,
 "nbformat_minor": 5
}
