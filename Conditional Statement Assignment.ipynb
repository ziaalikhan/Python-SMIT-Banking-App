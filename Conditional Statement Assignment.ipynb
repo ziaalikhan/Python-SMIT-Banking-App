{
 "cells": [
  {
   "cell_type": "code",
   "execution_count": 8,
   "id": "a707325a-a1a3-4d70-bfca-aaaa57b27413",
   "metadata": {},
   "outputs": [
    {
     "name": "stdin",
     "output_type": "stream",
     "text": [
      "Enter Your Number :  20\n"
     ]
    },
    {
     "name": "stdout",
     "output_type": "stream",
     "text": [
      "Your Number 20 is Odd\n"
     ]
    }
   ],
   "source": [
    "# 1. Write a program that prompts the user to input a number and display if the number\n",
    "# is even or odd.\n",
    "\n",
    "number = int(input(\"Enter Your Number : \"))\n",
    "if number % 2:\n",
    "    print(f\"Your Number {number} is Even\")\n",
    "else:\n",
    "    print(f\"Your Number {number} is Odd\")"
   ]
  },
  {
   "cell_type": "code",
   "execution_count": 3,
   "id": "32b01ae5-f838-4e0d-ae78-496af99e48f1",
   "metadata": {},
   "outputs": [
    {
     "name": "stdout",
     "output_type": "stream",
     "text": [
      "Its Not Vote Day\n"
     ]
    }
   ],
   "source": [
    "# 2. Write a Python program that takes an age as input and determines whether a person\n",
    "# is eligible to vote. If the age is 18 or above, print \"You are eligible to vote.\" Otherwise,\n",
    "# print \"You are not eligible to vote yet.\".\n",
    "\n",
    "age = int(input(\"Enter Your Number : \"))\n",
    "vote_day = False\n",
    "if vote_day :\n",
    "    if age >= 18 :\n",
    "        print(f\"Your Are Eligible To Vote\")\n",
    "    else :\n",
    "         print(f\"Your Not Are Eligible To Vote\")\n",
    "else :\n",
    "    print(\"Its Not Vote Day\")\n"
   ]
  },
  {
   "cell_type": "code",
   "execution_count": 7,
   "id": "f1409db0-fa01-4570-afb1-484b3097739f",
   "metadata": {},
   "outputs": [
    {
     "name": "stdin",
     "output_type": "stream",
     "text": [
      "Enter Your Number :  40\n",
      "Enter Your Number :  10\n"
     ]
    },
    {
     "name": "stdout",
     "output_type": "stream",
     "text": [
      "Your Largest Value is 40\n"
     ]
    }
   ],
   "source": [
    "# 3. Write a program that prompts the user to input two integers and outputs the largest.\n",
    "value1 = int(input(\"Enter Your Number : \"))\n",
    "value2 = int(input(\"Enter Your Number : \"))\n",
    "largestValue = 0\n",
    "if value1 > value2 :\n",
    "    largestValue = value1\n",
    "elif value2 > value1:\n",
    "    largestValue = value2\n",
    "else:\n",
    "    print(\"Some Thing Went Wrong...\")\n",
    "\n",
    "print(f\"Your Largest Value is {largestValue}\")"
   ]
  },
  {
   "cell_type": "code",
   "execution_count": 12,
   "id": "a888cab7-f7ca-45fa-b841-907abebc0cf0",
   "metadata": {},
   "outputs": [
    {
     "name": "stdin",
     "output_type": "stream",
     "text": [
      "Enter Your Number :  -20\n"
     ]
    },
    {
     "name": "stdout",
     "output_type": "stream",
     "text": [
      "Negative Number\n"
     ]
    }
   ],
   "source": [
    "# 4. Write a program that prompts the user to enter a number and determines whether it\n",
    "# is positive, negative, or zero. The program should print \"Positive\" if the number is\n",
    "# greater than 0, \"Negative\" if the number is less than 0, and \"Zero\" if the number is 0.\n",
    "\n",
    "number = int(input(\"Enter Your Number : \"))\n",
    "\n",
    "if number > 0:\n",
    "    print(f\"{number} Positive Number\")\n",
    "elif number < 0:\n",
    "    print(f\"{number} Negative Number\")\n",
    "elif number == 0:\n",
    "    print(\"Zero\")\n",
    "else :\n",
    "    print(\"Invalid Input\")\n",
    "    \n",
    "\n"
   ]
  },
  {
   "cell_type": "code",
   "execution_count": 40,
   "id": "e0321562-4b0c-49e4-b8a6-4b17a72574f2",
   "metadata": {},
   "outputs": [
    {
     "name": "stdin",
     "output_type": "stream",
     "text": [
      "Enter Your Age :  20\n"
     ]
    },
    {
     "name": "stdout",
     "output_type": "stream",
     "text": [
      "You're Adult\n",
      "Invalid Input\n"
     ]
    }
   ],
   "source": [
    "# 5. Write a program that prompts the user to enter their age and prints the\n",
    "# corresponding age group. The program should use the following age groups:\n",
    "# 0-12: Child\n",
    "# 13-19: Teenager\n",
    "# 20-59: Adult\n",
    "# 60 and above: Senior Citizen\n",
    "\n",
    "age = int(input(\"Enter Your Age : \"))\n",
    "if age > 0 and age <= 12 :\n",
    "    print(\"You're Child\")\n",
    "if age >= 13 and age <= 19:\n",
    "    print(\"You're Teenager\")\n",
    "if age >= 20 and age <= 59:\n",
    "    print(\"You're Adult\")\n",
    "if age >= 60:\n",
    "    print(\"You're Senior Citizen\")\n",
    "else :\n",
    "    print(\"Invalid Input\")"
   ]
  },
  {
   "cell_type": "code",
   "execution_count": 48,
   "id": "328acdc8-5c37-46bb-a0fd-ae19d4a67ecc",
   "metadata": {},
   "outputs": [
    {
     "name": "stdin",
     "output_type": "stream",
     "text": [
      "Enter Your Number 1 to 7 :  6\n"
     ]
    },
    {
     "name": "stdout",
     "output_type": "stream",
     "text": [
      "Friday\n"
     ]
    }
   ],
   "source": [
    "# 6. Write a program that prompts the user to input a number from 1 to 7. The program\n",
    "# should display the corresponding day for the given number. For example, if the user\n",
    "# types 1, the output should be Sunday. If the user types 7, the output should be\n",
    "# Saturday. If the number is not between 1 to 7 user should get error message as shown\n",
    "# in sample output.\n",
    "\n",
    "days = {1: \"Sunday\",2: \"Monday\",3: \"Tuesday\",4: \"Wednesday\",5: \"Thursday\",6: \"Friday\",7: \"Saturday\"}\n",
    "number = int(input(\"Enter Your Number 1 to 7 : \"))\n",
    "\n",
    "\n",
    "if number > 0 and number <=7 :\n",
    "    print(f\"{days.get(number)}\")\n",
    "else :\n",
    "    print(\"Invalid Input Must be 1 to 7\")\n",
    "\n"
   ]
  },
  {
   "cell_type": "code",
   "execution_count": 62,
   "id": "3db976e0-cac5-4b15-b4e5-f2e4c25bb9cd",
   "metadata": {},
   "outputs": [
    {
     "name": "stdin",
     "output_type": "stream",
     "text": [
      "Enter Your Weight  12\n",
      "Enter Your Height  2\n"
     ]
    },
    {
     "name": "stdout",
     "output_type": "stream",
     "text": [
      "Obesity\n"
     ]
    }
   ],
   "source": [
    "# 7. Write a program that prompts the user to enter their weight (in kilograms) and height\n",
    "# (in meters). The program should calculate the Body Mass Index (BMI) using the formula:\n",
    "# BMI = weight / (height * height). The program should then classify the BMI into one of\n",
    "# the following categories:\n",
    "# less than 18.5 - Underweight\n",
    "# BMI between 18.5 and 24.9 - Normal weight\n",
    "# BMI between 25 and 29.9 - Overweight\n",
    "# BMI 30 or greater - Obesity\n",
    "\n",
    "weight = int(input(\"Enter Your Weight \"))\n",
    "height_into_metar = float(input(\"Enter Your Height \")) * 0.3048\n",
    "result = \"\"\n",
    "if weight > 0 :\n",
    "    bmi = weight / (height_into_metar * height_into_metar)\n",
    "    if bmi < 18.5 :\n",
    "        result = \"Underweight\"\n",
    "    elif bmi > 18.5 and bmi < 24.9:\n",
    "        result = \"Normal weight\"\n",
    "    elif bmi > 25 and bmi < 29.9:\n",
    "        result = \"Overweight\"\n",
    "    elif bmi > 30:\n",
    "        result = \"Obesity\"\n",
    "    else :\n",
    "        \"Invalid\"\n",
    "else :\n",
    "    print(\"Invalid Input\")\n",
    "\n",
    "print(result)\n"
   ]
  },
  {
   "cell_type": "code",
   "execution_count": 69,
   "id": "99879aac-b302-4fa9-9b3d-58f5f3d47d02",
   "metadata": {},
   "outputs": [
    {
     "name": "stdout",
     "output_type": "stream",
     "text": [
      "Your Grade is B\n"
     ]
    }
   ],
   "source": [
    "# 8. The marks obtained by a student in 3 different subjects are input by the user. Your\n",
    "# program should calculate the average of subjects and display the grade. The student\n",
    "# gets a grade as per the following rules:\n",
    "# Average Grade\n",
    "# 90-100 A\n",
    "# 80-89 B\n",
    "# 70-79 C\n",
    "# 60-69 D\n",
    "# 0-59 F\n",
    "\n",
    "math_marks = int(input(\"Enter Your Math Marks \"))\n",
    "english_marks = int(input(\"Enter Your English Marks \"))\n",
    "urdu_marks = int(input(\"Enter Your Urdu Marks \"))\n",
    "\n",
    "sum_of_marks = math_marks + english_marks + urdu_marks\n",
    "average_of_marks = sum_of_marks / 3 # 3 is How much Subjects There are.\n",
    "result = \"\"\n",
    "\n",
    "if average_of_marks >= 90 and average_of_marks <= 100:\n",
    "    result = \"Your Grade is A\"\n",
    "elif average_of_marks >= 80 and average_of_marks <= 89:\n",
    "    result = \"Your Grade is B\"\n",
    "elif average_of_marks >= 70 and average_of_marks <= 79:\n",
    "    result = \"Your Grade is C\"\n",
    "elif average_of_marks >= 60 and average_of_marks <= 69:\n",
    "    result = \"Your Grade is D\"\n",
    "elif average_of_marks >= 0 and average_of_marks <= 59:\n",
    "    result = \"Your Grade is F\"\n",
    "else :\n",
    "    print(\"Invalid Input\")\n",
    "\n",
    "print(result)"
   ]
  },
  {
   "cell_type": "code",
   "execution_count": null,
   "id": "64420344-1d60-4892-92e4-5be646fefe8e",
   "metadata": {},
   "outputs": [],
   "source": [
    "# 9. The roots of the quadratic equation ax2 + bx + c = 0, a ≠ 0 are given by the following\n",
    "# formula:"
   ]
  },
  {
   "cell_type": "code",
   "execution_count": null,
   "id": "958c61c9-99e7-45ac-84a5-5fc877845240",
   "metadata": {},
   "outputs": [],
   "source": [
    "# 10. Write a program that prompts the user to enter three numbers and sorts them in\n",
    "# ascending order. The program should print the sorted numbers.\n",
    "\n",
    "\n",
    "\n"
   ]
  },
  {
   "cell_type": "code",
   "execution_count": 94,
   "id": "73f93213-8c17-4756-a6b2-231cb93fc43d",
   "metadata": {},
   "outputs": [
    {
     "name": "stdin",
     "output_type": "stream",
     "text": [
      "Enter Your Num 1  10\n",
      "Enter Your Num 2  20\n",
      "Enter Your Num 3  90\n"
     ]
    },
    {
     "name": "stdout",
     "output_type": "stream",
     "text": [
      "90\n"
     ]
    }
   ],
   "source": [
    "# 11. Write a program that prompts the user to input three integers and outputs the\n",
    "# largest.\n",
    "\n",
    "# FIRST SOLUTION :-\n",
    "# num1 = int(input(\"Enter Your Num 1 \"))\n",
    "# num2 = int(input(\"Enter Your Num 2 \"))\n",
    "# num3 = int(input(\"Enter Your Num 3 \"))\n",
    "\n",
    "# arr = []\n",
    "# arr.append(num1)\n",
    "# arr.append(num2)\n",
    "# arr.append(num3)\n",
    "\n",
    "# largest_num = 0\n",
    "# for x in arr:\n",
    "#     if x > largest_num:\n",
    "#         largest_num = x\n",
    "# print(largest_num)\n",
    "\n",
    "# SECOND SOLUTION :-\n",
    "arr = [80,110,89]\n",
    "largest_num = 0\n",
    "for x in arr:\n",
    "    if x > largest_num:\n",
    "        largest_num = x\n",
    "print(largest_num)"
   ]
  },
  {
   "cell_type": "code",
   "execution_count": 103,
   "id": "d75262e1-84ca-4069-a1d6-9e99cad14dbd",
   "metadata": {},
   "outputs": [
    {
     "name": "stdin",
     "output_type": "stream",
     "text": [
      "Enter Character a\n"
     ]
    },
    {
     "name": "stdout",
     "output_type": "stream",
     "text": [
      "Vowles\n"
     ]
    }
   ],
   "source": [
    "# 12. Write a program that prompts the user to input a character and determine the\n",
    "# character is vowel or consonant.\n",
    "\n",
    "vowels = [\"a\", \"e\", \"i\", \"o\", \"u\"]\n",
    "\n",
    "value = input(\"Enter Character \")\n",
    "\n",
    "if value in vowels:\n",
    "    print(\"Vowles\")\n",
    "else:\n",
    "    print(\"Its a consonant\")\n",
    "\n"
   ]
  },
  {
   "cell_type": "code",
   "execution_count": 119,
   "id": "4553ddd5-29b0-4f84-8627-7c456945952a",
   "metadata": {},
   "outputs": [
    {
     "name": "stdin",
     "output_type": "stream",
     "text": [
      "Enter Year  2023\n"
     ]
    },
    {
     "name": "stdout",
     "output_type": "stream",
     "text": [
      "2023 is Not a Leap Year\n"
     ]
    }
   ],
   "source": [
    "# 13. Write a program that prompts the user to input a year and determine whether the\n",
    "# year is a leap year or not.\n",
    "# Leap Years are any year that can be evenly divided by 4. A year that is evenly divisible by\n",
    "# 100 is a leap year only if it is also evenly divisible by 400. Example:\n",
    "# 1992 Leap Year\n",
    "# 2000 Leap Year\n",
    "# 1900 NOT a Leap Year\n",
    "# 1995 NOT a Leap Year\n",
    "\n",
    "year = int(input(\"Enter Year \"))\n",
    "find_leap = year % 4\n",
    "if find_leap == 0:\n",
    "    print(f\"{year} is a Leap Year\")\n",
    "else :\n",
    "    print(f\"{year} is Not a Leap Year\")"
   ]
  },
  {
   "cell_type": "code",
   "execution_count": 145,
   "id": "8474bbb6-5245-4434-9a2f-9726da61f6d2",
   "metadata": {},
   "outputs": [
    {
     "name": "stdin",
     "output_type": "stream",
     "text": [
      "Enter Your Monthly Calls Count  151\n"
     ]
    },
    {
     "name": "stdout",
     "output_type": "stream",
     "text": [
      "Your Total Bill 225.5 on Your 151 Calls\n"
     ]
    }
   ],
   "source": [
    "# 14. Write a program that prompts the user to input number of calls and calculate the\n",
    "# monthly telephone bills as per the following rule:\n",
    "# Minimum Rs. 200 for up to 100 calls. ✅\n",
    "# Plus Rs. 0.60 per call for next 50 calls.\n",
    "# Plus Rs. 0.50 per call for next 50 calls.\n",
    "# Plus Rs. 0.40 per call for any call beyond 200 calls.\n",
    "\n",
    "monthly_calls = int(input(\"Enter Your Monthly Calls Count \"))\n",
    "bill = 0\n",
    "minimum_price = 200\n",
    "extra_calls = monthly_calls - 100\n",
    "\n",
    "if monthly_calls <= 100:\n",
    "    bill = 200\n",
    "elif monthly_calls > 100 and monthly_calls <= 150:\n",
    "    extra_amount = 0.60 * extra_calls + minimum_price\n",
    "    bill = extra_amount\n",
    "elif monthly_calls > 150 and monthly_calls <= 200:\n",
    "    extra_amount = 0.50 * extra_calls + minimum_price\n",
    "    bill = extra_amount\n",
    "else :\n",
    "    extra_amount = 0.40 * extra_calls + minimum_price\n",
    "    bill = extra_amount\n",
    "    \n",
    "print(f\"Your Total Bill {bill} on Your {monthly_calls} Calls\")"
   ]
  }
 ],
 "metadata": {
  "kernelspec": {
   "display_name": "Python 3 (ipykernel)",
   "language": "python",
   "name": "python3"
  },
  "language_info": {
   "codemirror_mode": {
    "name": "ipython",
    "version": 3
   },
   "file_extension": ".py",
   "mimetype": "text/x-python",
   "name": "python",
   "nbconvert_exporter": "python",
   "pygments_lexer": "ipython3",
   "version": "3.12.7"
  }
 },
 "nbformat": 4,
 "nbformat_minor": 5
}
